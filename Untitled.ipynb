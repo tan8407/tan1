{
 "cells": [
  {
   "cell_type": "code",
   "execution_count": 1,
   "id": "e10c5f79-94ab-46e5-9244-7daddf9627f6",
   "metadata": {},
   "outputs": [
    {
     "name": "stdout",
     "output_type": "stream",
     "text": [
      "Tan\n"
     ]
    }
   ],
   "source": [
    "print(\"Tan\")"
   ]
  },
  {
   "cell_type": "code",
   "execution_count": 2,
   "id": "014cca9f-00fc-49b3-8521-260f0d573a62",
   "metadata": {},
   "outputs": [
    {
     "name": "stdin",
     "output_type": "stream",
     "text": [
      " 7\n"
     ]
    },
    {
     "name": "stdout",
     "output_type": "stream",
     "text": [
      "14.0\n"
     ]
    }
   ],
   "source": [
    "# bài 1 tuần 1\n",
    "n = float(input())\n",
    "print(n*2)"
   ]
  },
  {
   "cell_type": "code",
   "execution_count": 36,
   "id": "5b1ee9db-e990-4bcc-b64f-3d2b0d2263ed",
   "metadata": {},
   "outputs": [
    {
     "name": "stdin",
     "output_type": "stream",
     "text": [
      " 6 9\n"
     ]
    },
    {
     "name": "stdout",
     "output_type": "stream",
     "text": [
      "35.16\n"
     ]
    }
   ],
   "source": [
    "#bài 2\n",
    "a,b = map(float, input().split())\n",
    "# a,b là chiều rộng chiều dài\n",
    "dt = (a*b)-((a/2)*2)*3.14\n",
    "#dt là diện tích\n",
    "print(f\"{dt:.2f}\")\n"
   ]
  },
  {
   "cell_type": "code",
   "execution_count": null,
   "id": "40281555-7aca-43de-bcd6-f834ab7541ef",
   "metadata": {},
   "outputs": [],
   "source": []
  },
  {
   "cell_type": "code",
   "execution_count": 41,
   "id": "25f647bd-3c76-49a9-9587-8052898e4210",
   "metadata": {},
   "outputs": [
    {
     "name": "stdin",
     "output_type": "stream",
     "text": [
      " nguyen\n"
     ]
    },
    {
     "name": "stdout",
     "output_type": "stream",
     "text": [
      "NGUYEN\n"
     ]
    }
   ],
   "source": [
    "#bài 3\n",
    "n = input()\n",
    "if n.isupper():\n",
    "   print(n.lower())\n",
    "elif n.islower():\n",
    "   print(n.upper())\n",
    "else:\n",
    "   print(n)"
   ]
  },
  {
   "cell_type": "code",
   "execution_count": 47,
   "id": "4211ffd9-6882-4de9-8967-fc52c1f048d4",
   "metadata": {},
   "outputs": [
    {
     "name": "stdin",
     "output_type": "stream",
     "text": [
      " 8\n"
     ]
    },
    {
     "name": "stdout",
     "output_type": "stream",
     "text": [
      "{C} ko phải kí tự alphabet\n"
     ]
    }
   ],
   "source": [
    "#bài 4\n",
    "c = input()\n",
    "if c.isupper() or c.islower() :\n",
    "    print(\"{C} là kí tự alpabet\")\n",
    "else :\n",
    "    print(\"{C} ko phải kí tự alphabet\")"
   ]
  },
  {
   "cell_type": "code",
   "execution_count": null,
   "id": "0893ad8a-33fa-441a-83f2-8c083e2155e9",
   "metadata": {},
   "outputs": [],
   "source": [
    "#bài 5"
   ]
  },
  {
   "cell_type": "code",
   "execution_count": 65,
   "id": "7db20150-dd7c-4dc3-a908-35dc32cbc586",
   "metadata": {},
   "outputs": [
    {
     "name": "stdin",
     "output_type": "stream",
     "text": [
      " 6 8 10\n"
     ]
    },
    {
     "name": "stdout",
     "output_type": "stream",
     "text": [
      "24.0\n"
     ]
    }
   ],
   "source": [
    "#bài 6\n",
    "a,b,c = map(float, input().split())\n",
    "#a,b,c là ba cạnh tam giác\n",
    "p = (a+b+c)/2\n",
    "if a+b>c and a+c>b and c+b>a:\n",
    "    dien_tich = (\n",
    "    p*(p-a)*(p-b)*(p-c))**0.5\n",
    "    print(dien_tich)\n",
    "else:\n",
    "    print(\"ko phải 3 cạnh của tam giác\")"
   ]
  },
  {
   "cell_type": "markdown",
   "id": "17dd8df9-84c0-4241-b3b6-03a0492c1ec0",
   "metadata": {},
   "source": [
    "\n",
    "chuỗi = input()"
   ]
  },
  {
   "cell_type": "code",
   "execution_count": 70,
   "id": "bd5c2f24-2132-4c2e-b17a-9c6576adfd09",
   "metadata": {},
   "outputs": [
    {
     "name": "stdin",
     "output_type": "stream",
     "text": [
      " rhfbjehjebuiriu4geiorh\n"
     ]
    },
    {
     "name": "stdout",
     "output_type": "stream",
     "text": [
      "j\n",
      "e\n"
     ]
    }
   ],
   "source": [
    "#bài 7\n",
    "chuoi = input()\n",
    "#chuỗi dài bằng hoặc hơn 20 kí tự\n",
    "print(chuoi[4])\n",
    "print(chuoi[8])"
   ]
  },
  {
   "cell_type": "code",
   "execution_count": null,
   "id": "d934b6db-61b3-4479-8bd7-9f9d5e36ebb6",
   "metadata": {},
   "outputs": [],
   "source": []
  }
 ],
 "metadata": {
  "kernelspec": {
   "display_name": "Python [conda env:base] *",
   "language": "python",
   "name": "conda-base-py"
  },
  "language_info": {
   "codemirror_mode": {
    "name": "ipython",
    "version": 3
   },
   "file_extension": ".py",
   "mimetype": "text/x-python",
   "name": "python",
   "nbconvert_exporter": "python",
   "pygments_lexer": "ipython3",
   "version": "3.13.5"
  }
 },
 "nbformat": 4,
 "nbformat_minor": 5
}
