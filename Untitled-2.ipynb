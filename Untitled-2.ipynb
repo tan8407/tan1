{
 "cells": [
  {
   "cell_type": "code",
   "execution_count": 1,
   "id": "e10c5f79-94ab-46e5-9244-7daddf9627f6",
   "metadata": {},
   "outputs": [
    {
     "name": "stdout",
     "output_type": "stream",
     "text": [
      "Tan\n"
     ]
    }
   ],
   "source": [
    "print(\"Tan\")"
   ]
  },
  {
   "cell_type": "code",
   "execution_count": null,
   "id": "014cca9f-00fc-49b3-8521-260f0d573a62",
   "metadata": {},
   "outputs": [],
   "source": []
  }
 ],
 "metadata": {
  "kernelspec": {
   "display_name": "Python [conda env:base] *",
   "language": "python",
   "name": "conda-base-py"
  },
  "language_info": {
   "codemirror_mode": {
    "name": "ipython",
    "version": 3
   },
   "file_extension": ".py",
   "mimetype": "text/x-python",
   "name": "python",
   "nbconvert_exporter": "python",
   "pygments_lexer": "ipython3",
   "version": "3.13.5"
  }
 },
 "nbformat": 4,
 "nbformat_minor": 5
}
